{
 "cells": [
  {
   "cell_type": "markdown",
   "metadata": {},
   "source": [
    "### Load Libraries"
   ]
  },
  {
   "cell_type": "code",
   "execution_count": 2,
   "metadata": {},
   "outputs": [],
   "source": [
    "import numpy as np\n",
    "import pandas as pd\n",
    "import os, cv2, math\n",
    "from keras_retinanet import models\n",
    "from keras_retinanet.utils.image import read_image_bgr, preprocess_image, resize_image\n",
    "from keras_retinanet.utils.visualization import draw_box, draw_caption\n",
    "from keras_retinanet.utils.colors import label_color"
   ]
  },
  {
   "cell_type": "markdown",
   "metadata": {},
   "source": [
    "### Loading Trained Model"
   ]
  },
  {
   "cell_type": "code",
   "execution_count": 3,
   "metadata": {
    "lines_to_next_cell": 2
   },
   "outputs": [
    {
     "name": "stderr",
     "output_type": "stream",
     "text": [
      "Using TensorFlow backend.\n"
     ]
    },
    {
     "name": "stdout",
     "output_type": "stream",
     "text": [
      "WARNING:tensorflow:From C:\\Users\\farah\\.conda\\envs\\snap\\lib\\site-packages\\keras\\backend\\tensorflow_backend.py:517: The name tf.placeholder is deprecated. Please use tf.compat.v1.placeholder instead.\n",
      "\n",
      "WARNING:tensorflow:From C:\\Users\\farah\\.conda\\envs\\snap\\lib\\site-packages\\keras\\backend\\tensorflow_backend.py:4115: The name tf.random_normal is deprecated. Please use tf.random.normal instead.\n",
      "\n",
      "WARNING:tensorflow:From C:\\Users\\farah\\.conda\\envs\\snap\\lib\\site-packages\\keras\\backend\\tensorflow_backend.py:4138: The name tf.random_uniform is deprecated. Please use tf.random.uniform instead.\n",
      "\n",
      "WARNING:tensorflow:From C:\\Users\\farah\\.conda\\envs\\snap\\lib\\site-packages\\keras\\backend\\tensorflow_backend.py:1919: The name tf.nn.fused_batch_norm is deprecated. Please use tf.compat.v1.nn.fused_batch_norm instead.\n",
      "\n",
      "WARNING:tensorflow:From C:\\Users\\farah\\.conda\\envs\\snap\\lib\\site-packages\\keras\\backend\\tensorflow_backend.py:3976: The name tf.nn.max_pool is deprecated. Please use tf.nn.max_pool2d instead.\n",
      "\n",
      "WARNING:tensorflow:From C:\\Users\\farah\\.conda\\envs\\snap\\lib\\site-packages\\keras\\backend\\tensorflow_backend.py:4185: The name tf.truncated_normal is deprecated. Please use tf.random.truncated_normal instead.\n",
      "\n",
      "WARNING:tensorflow:From D:\\snap\\codes_and_notebooks\\nodule_detection\\keras_retinanet\\backend\\tensorflow_backend.py:68: The name tf.image.resize_images is deprecated. Please use tf.image.resize instead.\n",
      "\n",
      "WARNING:tensorflow:From C:\\Users\\farah\\.conda\\envs\\snap\\lib\\site-packages\\keras\\backend\\tensorflow_backend.py:174: The name tf.get_default_session is deprecated. Please use tf.compat.v1.get_default_session instead.\n",
      "\n",
      "WARNING:tensorflow:From C:\\Users\\farah\\.conda\\envs\\snap\\lib\\site-packages\\keras\\backend\\tensorflow_backend.py:181: The name tf.ConfigProto is deprecated. Please use tf.compat.v1.ConfigProto instead.\n",
      "\n",
      "WARNING:tensorflow:From C:\\Users\\farah\\.conda\\envs\\snap\\lib\\site-packages\\keras\\backend\\tensorflow_backend.py:186: The name tf.Session is deprecated. Please use tf.compat.v1.Session instead.\n",
      "\n",
      "WARNING:tensorflow:From C:\\Users\\farah\\.conda\\envs\\snap\\lib\\site-packages\\keras\\backend\\tensorflow_backend.py:190: The name tf.global_variables is deprecated. Please use tf.compat.v1.global_variables instead.\n",
      "\n",
      "WARNING:tensorflow:From C:\\Users\\farah\\.conda\\envs\\snap\\lib\\site-packages\\keras\\backend\\tensorflow_backend.py:199: The name tf.is_variable_initialized is deprecated. Please use tf.compat.v1.is_variable_initialized instead.\n",
      "\n",
      "WARNING:tensorflow:From C:\\Users\\farah\\.conda\\envs\\snap\\lib\\site-packages\\keras\\backend\\tensorflow_backend.py:206: The name tf.variables_initializer is deprecated. Please use tf.compat.v1.variables_initializer instead.\n",
      "\n",
      "WARNING:tensorflow:From C:\\Users\\farah\\.conda\\envs\\snap\\lib\\site-packages\\keras\\optimizers.py:790: The name tf.train.Optimizer is deprecated. Please use tf.compat.v1.train.Optimizer instead.\n",
      "\n",
      "WARNING:tensorflow:From D:\\snap\\codes_and_notebooks\\nodule_detection\\keras_retinanet\\backend\\tensorflow_backend.py:104: where (from tensorflow.python.ops.array_ops) is deprecated and will be removed in a future version.\n",
      "Instructions for updating:\n",
      "Use tf.where in 2.0, which has the same broadcast rule as np.where\n",
      "WARNING:tensorflow:From C:\\Users\\farah\\.conda\\envs\\snap\\lib\\site-packages\\keras\\backend\\tensorflow_backend.py:3376: The name tf.log is deprecated. Please use tf.math.log instead.\n",
      "\n",
      "WARNING:tensorflow:From C:\\Users\\farah\\.conda\\envs\\snap\\lib\\site-packages\\keras\\backend\\tensorflow_backend.py:986: The name tf.assign_add is deprecated. Please use tf.compat.v1.assign_add instead.\n",
      "\n",
      "WARNING:tensorflow:From C:\\Users\\farah\\.conda\\envs\\snap\\lib\\site-packages\\keras\\backend\\tensorflow_backend.py:973: The name tf.assign is deprecated. Please use tf.compat.v1.assign instead.\n",
      "\n"
     ]
    }
   ],
   "source": [
    "model_path_name='snap_nodule_dector_wts.h5'\n",
    "# load retinanet model\n",
    "model = models.load_model(model_path_name, backbone_name='resnet50')\n",
    "model = models.convert_model(model)\n",
    "labels_to_names = {0.0: 'N'}"
   ]
  },
  {
   "cell_type": "markdown",
   "metadata": {},
   "source": [
    "### Prediction on the images"
   ]
  },
  {
   "cell_type": "code",
   "execution_count": 4,
   "metadata": {},
   "outputs": [],
   "source": [
    "# image location\n",
    "data_location = '../../sample_images'\n",
    "imagefile=os.listdir(data_location)"
   ]
  },
  {
   "cell_type": "code",
   "execution_count": 5,
   "metadata": {},
   "outputs": [],
   "source": [
    "# output location : images with predicted nodules\n",
    "directory='../../sample_outputs/nodules'\n",
    "if not os.path.exists(directory):\n",
    "    os.makedirs(directory)"
   ]
  },
  {
   "cell_type": "code",
   "execution_count": null,
   "metadata": {},
   "outputs": [],
   "source": [
    "retinanet_input = 512\n",
    "patchsize = 256\n",
    "class_th = 0.5\n",
    "import pandas as pd\n",
    "for file in imagefile:\n",
    "    image_path =data_location +'/' + file\n",
    "    imagename=file.split('/')[-1]\n",
    "    imagefull = read_image_bgr(image_path)\n",
    "    h=math.ceil(imagefull.shape[0]/patchsize)*patchsize-imagefull.shape[0]\n",
    "    w=math.ceil(imagefull.shape[1]/patchsize)*patchsize-imagefull.shape[1]\n",
    "    imagefull= cv2.copyMakeBorder(imagefull,0,h,0,w,cv2.BORDER_CONSTANT,value=[0,0,0])\n",
    "    I=np.zeros(imagefull.shape)\n",
    "    \n",
    "    number_nodules=0\n",
    "    dicts = {'xc':[], 'yc':[],'area':[],'box_label':[]}\n",
    "    \n",
    "    # make and loop over the patches\n",
    "    for row in range(patchsize,imagefull.shape[0]+1,patchsize):\n",
    "        for col in range(patchsize,imagefull.shape[1]+1,patchsize):\n",
    "            image=imagefull[row-patchsize:row,col-patchsize:col,:]\n",
    "            draw = image.copy()\n",
    "            \n",
    "            # preprocess image for network\n",
    "            image = preprocess_image(image)\n",
    "            image, scale = resize_image(image,retinanet_input)\n",
    "            draw, scale2 = resize_image(draw,patchsize)\n",
    "            \n",
    "            # process image\n",
    "            boxes, scores, labels = model.predict_on_batch(np.expand_dims(image, axis=0))\n",
    "            \n",
    "            # correct for image scale\n",
    "            boxes /= scale\n",
    "                        \n",
    "            for box, score, label in zip(boxes[0], scores[0], labels[0]):\n",
    "                x1=box[0]+col-patchsize\n",
    "                y1=box[1]+row-patchsize\n",
    "                x2=box[2]+col-patchsize\n",
    "                y2=box[3]+row-patchsize\n",
    "                if score < class_th:\n",
    "                    break\n",
    "                number_nodules=number_nodules+1\n",
    "                \n",
    "                dicts['xc'].append((x1+x2)/2)\n",
    "                dicts['yc'].append((y1+y2)/2)\n",
    "                dicts['area'].append((box[2] - box[0] + 1) * (box[3] - box[1] + 1))\n",
    "                dicts['box_label'].append(box)\n",
    "    \n",
    "                color = label_color(label)\n",
    "                b = box.astype(int)\n",
    "                draw_box(draw, b, color=color)\n",
    "                \n",
    "                caption = \"{} {:.3f}\".format(labels_to_names[label], score)\n",
    "                draw_caption(draw, b, caption)\n",
    "            I[row-patchsize:row,col-patchsize:col,:]=draw\n",
    "    \n",
    "    cv2.imwrite(directory+'/'+imagename,I)\n",
    "    print('number of nodules',number_nodules)\n",
    "    df=pd.DataFrame.from_dict(dicts)\n",
    "    df.to_csv(directory+'/'+imagename[:-4]+'.csv')"
   ]
  },
  {
   "cell_type": "code",
   "execution_count": null,
   "metadata": {},
   "outputs": [],
   "source": [
    "\n",
    "\n"
   ]
  }
 ],
 "metadata": {
  "jupytext": {
   "cell_metadata_filter": "-all",
   "encoding": "# coding: utf-8",
   "notebook_metadata_filter": "-all",
   "text_representation": {
    "extension": ".py",
    "format_name": "light"
   }
  },
  "kernelspec": {
   "display_name": "Python 3",
   "language": "python",
   "name": "python3"
  },
  "language_info": {
   "codemirror_mode": {
    "name": "ipython",
    "version": 3
   },
   "file_extension": ".py",
   "mimetype": "text/x-python",
   "name": "python",
   "nbconvert_exporter": "python",
   "pygments_lexer": "ipython3",
   "version": "3.6.3"
  }
 },
 "nbformat": 4,
 "nbformat_minor": 2
}
