{
 "cells": [
  {
   "cell_type": "code",
   "execution_count": 9,
   "metadata": {},
   "outputs": [],
   "source": [
    "import pandas as pd\n",
    "import glob\n",
    "\n",
    "filelist = glob.glob('../sample_outputs/nodules/*.csv')\n",
    "\n",
    "\n",
    "for count,file in enumerate(filelist):\n",
    "    df = pd.read_csv(file,index_col=False)\n",
    "    df['imagename'] = file.split('\\\\')[1][:-4]\n",
    "    if count==0:\n",
    "        df_all = df\n",
    "    else:\n",
    "        df_all = pd.concat([df_all,df],ignore_index=True)\n",
    "\n",
    "df_all = df_all.drop(columns=['Unnamed: 0'])\n",
    "df_all.to_csv('../sample_outputs/counts/all_nodules.csv')        \n",
    "    "
   ]
  },
  {
   "cell_type": "code",
   "execution_count": null,
   "metadata": {},
   "outputs": [],
   "source": []
  }
 ],
 "metadata": {
  "kernelspec": {
   "display_name": "Python 3",
   "language": "python",
   "name": "python3"
  },
  "language_info": {
   "codemirror_mode": {
    "name": "ipython",
    "version": 3
   },
   "file_extension": ".py",
   "mimetype": "text/x-python",
   "name": "python",
   "nbconvert_exporter": "python",
   "pygments_lexer": "ipython3",
   "version": "3.6.3"
  }
 },
 "nbformat": 4,
 "nbformat_minor": 4
}
