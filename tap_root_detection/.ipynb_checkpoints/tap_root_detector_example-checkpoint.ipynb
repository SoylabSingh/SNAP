{
 "cells": [
  {
   "cell_type": "code",
   "execution_count": 1,
   "metadata": {},
   "outputs": [
    {
     "name": "stderr",
     "output_type": "stream",
     "text": [
      "Using TensorFlow backend.\n"
     ]
    }
   ],
   "source": [
    "import numpy as np\n",
    "import os,cv2,math\n",
    "import skimage.io\n",
    "from skimage.morphology import skeletonize\n",
    "from skimage.filters import threshold_otsu\n",
    "from skimage.morphology import opening,disk,closing\n",
    "from keras_unet.models import custom_unet"
   ]
  },
  {
   "cell_type": "code",
   "execution_count": 2,
   "metadata": {},
   "outputs": [
    {
     "name": "stdout",
     "output_type": "stream",
     "text": [
      "WARNING:tensorflow:From C:\\Users\\znjub\\.conda\\envs\\snap\\lib\\site-packages\\keras\\backend\\tensorflow_backend.py:74: The name tf.get_default_graph is deprecated. Please use tf.compat.v1.get_default_graph instead.\n",
      "\n",
      "WARNING:tensorflow:From C:\\Users\\znjub\\.conda\\envs\\snap\\lib\\site-packages\\keras\\backend\\tensorflow_backend.py:517: The name tf.placeholder is deprecated. Please use tf.compat.v1.placeholder instead.\n",
      "\n",
      "WARNING:tensorflow:From C:\\Users\\znjub\\.conda\\envs\\snap\\lib\\site-packages\\keras\\backend\\tensorflow_backend.py:4185: The name tf.truncated_normal is deprecated. Please use tf.random.truncated_normal instead.\n",
      "\n",
      "WARNING:tensorflow:From C:\\Users\\znjub\\.conda\\envs\\snap\\lib\\site-packages\\keras\\backend\\tensorflow_backend.py:174: The name tf.get_default_session is deprecated. Please use tf.compat.v1.get_default_session instead.\n",
      "\n",
      "WARNING:tensorflow:From C:\\Users\\znjub\\.conda\\envs\\snap\\lib\\site-packages\\keras\\backend\\tensorflow_backend.py:181: The name tf.ConfigProto is deprecated. Please use tf.compat.v1.ConfigProto instead.\n",
      "\n",
      "WARNING:tensorflow:From C:\\Users\\znjub\\.conda\\envs\\snap\\lib\\site-packages\\keras\\backend\\tensorflow_backend.py:186: The name tf.Session is deprecated. Please use tf.compat.v1.Session instead.\n",
      "\n",
      "WARNING:tensorflow:From C:\\Users\\znjub\\.conda\\envs\\snap\\lib\\site-packages\\keras\\backend\\tensorflow_backend.py:190: The name tf.global_variables is deprecated. Please use tf.compat.v1.global_variables instead.\n",
      "\n",
      "WARNING:tensorflow:From C:\\Users\\znjub\\.conda\\envs\\snap\\lib\\site-packages\\keras\\backend\\tensorflow_backend.py:199: The name tf.is_variable_initialized is deprecated. Please use tf.compat.v1.is_variable_initialized instead.\n",
      "\n",
      "WARNING:tensorflow:From C:\\Users\\znjub\\.conda\\envs\\snap\\lib\\site-packages\\keras\\backend\\tensorflow_backend.py:206: The name tf.variables_initializer is deprecated. Please use tf.compat.v1.variables_initializer instead.\n",
      "\n",
      "WARNING:tensorflow:From C:\\Users\\znjub\\.conda\\envs\\snap\\lib\\site-packages\\keras\\backend\\tensorflow_backend.py:1834: The name tf.nn.fused_batch_norm is deprecated. Please use tf.compat.v1.nn.fused_batch_norm instead.\n",
      "\n",
      "WARNING:tensorflow:From C:\\Users\\znjub\\.conda\\envs\\snap\\lib\\site-packages\\keras\\backend\\tensorflow_backend.py:133: The name tf.placeholder_with_default is deprecated. Please use tf.compat.v1.placeholder_with_default instead.\n",
      "\n",
      "WARNING:tensorflow:From C:\\Users\\znjub\\.conda\\envs\\snap\\lib\\site-packages\\keras\\backend\\tensorflow_backend.py:3445: calling dropout (from tensorflow.python.ops.nn_ops) with keep_prob is deprecated and will be removed in a future version.\n",
      "Instructions for updating:\n",
      "Please use `rate` instead of `keep_prob`. Rate should be set to `rate = 1 - keep_prob`.\n",
      "WARNING:tensorflow:From C:\\Users\\znjub\\.conda\\envs\\snap\\lib\\site-packages\\keras\\backend\\tensorflow_backend.py:3976: The name tf.nn.max_pool is deprecated. Please use tf.nn.max_pool2d instead.\n",
      "\n",
      "WARNING:tensorflow:From C:\\Users\\znjub\\.conda\\envs\\snap\\lib\\site-packages\\keras\\backend\\tensorflow_backend.py:4138: The name tf.random_uniform is deprecated. Please use tf.random.uniform instead.\n",
      "\n"
     ]
    }
   ],
   "source": [
    "s = 256\n",
    "input_shape = (s,s,3)\n",
    "\n",
    "model = custom_unet(\n",
    "    input_shape,\n",
    "    num_layers=3,\n",
    "    use_batch_norm=True,\n",
    "    num_classes=1,\n",
    "    filters=64,\n",
    "    dropout=0.2,\n",
    "    output_activation='sigmoid')\n",
    "\n",
    "model.load_weights('tap_root_dector_wts.h5')"
   ]
  },
  {
   "cell_type": "code",
   "execution_count": 3,
   "metadata": {},
   "outputs": [],
   "source": [
    "directory='../sample_outputs/tap_roots'\n",
    "if not os.path.exists(directory):\n",
    "    os.makedirs(directory)\n",
    "\n",
    "data_location = '../sample_images'\n",
    "imagefile=os.listdir(data_location)\n",
    " \n",
    "patchsize = 256"
   ]
  },
  {
   "cell_type": "code",
   "execution_count": null,
   "metadata": {
    "scrolled": true
   },
   "outputs": [],
   "source": [
    "for file in imagefile:  \n",
    "    image_path =data_location +'/' + file\n",
    "    imagename=file.split('/')[-1]\n",
    "    imagefull = cv2.imread(image_path)\n",
    "    imagefull = cv2.cvtColor(imagefull, cv2.COLOR_BGR2RGB)\n",
    "    h=math.ceil(imagefull.shape[0]/patchsize)*patchsize-imagefull.shape[0]\n",
    "    w=math.ceil(imagefull.shape[1]/patchsize)*patchsize-imagefull.shape[1]\n",
    "    original= cv2.copyMakeBorder(imagefull,0,h,0,w,cv2.BORDER_CONSTANT,value=[0,0,0])\n",
    "    output_shape = (original.shape[0],original.shape[1])\n",
    "    \n",
    "    x_infer = np.array(cv2.resize(original,(s,s)))\n",
    "    x_infer = np.asarray(x_infer, dtype=np.float32)/255\n",
    "    x_infer = x_infer.reshape(1,x_infer.shape[0], x_infer.shape[1],x_infer.shape[2])\n",
    "    y_pred_infer = model.predict(x_infer)\n",
    "    \n",
    "    image = y_pred_infer[0][:,:,0]\n",
    "    thresh = threshold_otsu(image)\n",
    "    selem = disk(1)\n",
    "    binary = image > thresh\n",
    "    #binary = opening(binary_p, selem)\n",
    "    #binary = closing(binary, selem)\n",
    "    \n",
    "    binary = np.multiply(binary,255)\n",
    "    binary = skimage.transform.resize(binary, output_shape=output_shape, mode='constant', preserve_range=True)\n",
    "    cv2.imwrite(directory+'/'+imagename[:-4]+'.png',binary)"
   ]
  },
  {
   "cell_type": "code",
   "execution_count": null,
   "metadata": {},
   "outputs": [],
   "source": []
  }
 ],
 "metadata": {
  "kernelspec": {
   "display_name": "Python 3",
   "language": "python",
   "name": "python3"
  },
  "language_info": {
   "codemirror_mode": {
    "name": "ipython",
    "version": 3
   },
   "file_extension": ".py",
   "mimetype": "text/x-python",
   "name": "python",
   "nbconvert_exporter": "python",
   "pygments_lexer": "ipython3",
   "version": "3.6.3"
  }
 },
 "nbformat": 4,
 "nbformat_minor": 5
}
